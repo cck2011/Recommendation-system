{
 "cells": [
  {
   "cell_type": "markdown",
   "metadata": {},
   "source": [
    "# Building a Chocolate Company Recommender System\n",
    "\n",
    "### Project Outline\n",
    "\n",
    "This project is broken down into 7 steps:\n",
    "\n",
    "1. Importing the dependnecies\n",
    "1. Loading the data\n",
    "1. Exploratory data analysis \n",
    "1. Data pre-processing\n",
    "1. Collaborative filtering using k-Nearest Neighbors\n",
    "1. Handling the cold-start problem with content-based filtering \n",
    "1. Dimensionality reduction with matrix factorization\n"
   ]
  },
  {
   "cell_type": "markdown",
   "metadata": {},
   "source": [
    "### Step 1: Import Dependencies"
   ]
  },
  {
   "cell_type": "code",
   "execution_count": 1,
   "metadata": {},
   "outputs": [],
   "source": [
    "import numpy as np\n",
    "import pandas as pd\n",
    "import matplotlib.pyplot as plt\n",
    "import seaborn as sns\n",
    "from sklearn.neighbors import NearestNeighbors\n",
    "from nltk.tokenize import word_tokenize\n",
    "from nltk.corpus import stopwords\n",
    "from string import punctuation\n",
    "import string\n",
    "from collections import Counter\n",
    "from sklearn.metrics.pairwise import cosine_similarity\n",
    "from sklearn.decomposition import TruncatedSVD\n",
    "from scipy.sparse import csr_matrix\n",
    "import scipy\n",
    "from sklearn.model_selection import train_test_split"
   ]
  },
  {
   "cell_type": "markdown",
   "metadata": {},
   "source": [
    "### Step 2: Load Data"
   ]
  },
  {
   "cell_type": "code",
   "execution_count": 48,
   "metadata": {},
   "outputs": [],
   "source": [
    "ratings = pd.read_csv('chocolate_ratings.csv')"
   ]
  },
  {
   "cell_type": "code",
   "execution_count": 49,
   "metadata": {},
   "outputs": [],
   "source": [
    "makers = pd.read_csv('chocolate_makers.csv')"
   ]
  },
  {
   "cell_type": "markdown",
   "metadata": {},
   "source": [
    "### Exploring Tables"
   ]
  },
  {
   "cell_type": "code",
   "execution_count": 50,
   "metadata": {},
   "outputs": [
    {
     "data": {
      "text/html": [
       "<div>\n",
       "<style scoped>\n",
       "    .dataframe tbody tr th:only-of-type {\n",
       "        vertical-align: middle;\n",
       "    }\n",
       "\n",
       "    .dataframe tbody tr th {\n",
       "        vertical-align: top;\n",
       "    }\n",
       "\n",
       "    .dataframe thead th {\n",
       "        text-align: right;\n",
       "    }\n",
       "</style>\n",
       "<table border=\"1\" class=\"dataframe\">\n",
       "  <thead>\n",
       "    <tr style=\"text-align: right;\">\n",
       "      <th></th>\n",
       "      <th>REF</th>\n",
       "      <th>Company (Manufacturer)</th>\n",
       "      <th>Company Location</th>\n",
       "      <th>Review Date</th>\n",
       "      <th>Country of Bean Origin</th>\n",
       "      <th>Specific Bean Origin or Bar Name</th>\n",
       "      <th>Cocoa Percent</th>\n",
       "      <th>Ingredients</th>\n",
       "      <th>Most Memorable Characteristics</th>\n",
       "      <th>Rating</th>\n",
       "    </tr>\n",
       "  </thead>\n",
       "  <tbody>\n",
       "    <tr>\n",
       "      <th>0</th>\n",
       "      <td>2454</td>\n",
       "      <td>5150</td>\n",
       "      <td>U.S.A.</td>\n",
       "      <td>2019</td>\n",
       "      <td>Tanzania</td>\n",
       "      <td>Kokoa Kamili, batch 1</td>\n",
       "      <td>76%</td>\n",
       "      <td>3- B,S,C</td>\n",
       "      <td>rich cocoa, fatty, bready</td>\n",
       "      <td>3.25</td>\n",
       "    </tr>\n",
       "    <tr>\n",
       "      <th>1</th>\n",
       "      <td>2458</td>\n",
       "      <td>5150</td>\n",
       "      <td>U.S.A.</td>\n",
       "      <td>2019</td>\n",
       "      <td>Dominican Republic</td>\n",
       "      <td>Zorzal, batch 1</td>\n",
       "      <td>76%</td>\n",
       "      <td>3- B,S,C</td>\n",
       "      <td>cocoa, vegetal, savory</td>\n",
       "      <td>3.50</td>\n",
       "    </tr>\n",
       "    <tr>\n",
       "      <th>2</th>\n",
       "      <td>2454</td>\n",
       "      <td>5150</td>\n",
       "      <td>U.S.A.</td>\n",
       "      <td>2019</td>\n",
       "      <td>Madagascar</td>\n",
       "      <td>Bejofo Estate, batch 1</td>\n",
       "      <td>76%</td>\n",
       "      <td>3- B,S,C</td>\n",
       "      <td>cocoa, blackberry, full body</td>\n",
       "      <td>3.75</td>\n",
       "    </tr>\n",
       "    <tr>\n",
       "      <th>3</th>\n",
       "      <td>2542</td>\n",
       "      <td>5150</td>\n",
       "      <td>U.S.A.</td>\n",
       "      <td>2021</td>\n",
       "      <td>Fiji</td>\n",
       "      <td>Matasawalevu, batch 1</td>\n",
       "      <td>68%</td>\n",
       "      <td>3- B,S,C</td>\n",
       "      <td>chewy, off, rubbery</td>\n",
       "      <td>3.00</td>\n",
       "    </tr>\n",
       "    <tr>\n",
       "      <th>4</th>\n",
       "      <td>2546</td>\n",
       "      <td>5150</td>\n",
       "      <td>U.S.A.</td>\n",
       "      <td>2021</td>\n",
       "      <td>Venezuela</td>\n",
       "      <td>Sur del Lago, batch 1</td>\n",
       "      <td>72%</td>\n",
       "      <td>3- B,S,C</td>\n",
       "      <td>fatty, earthy, moss, nutty,chalky</td>\n",
       "      <td>3.00</td>\n",
       "    </tr>\n",
       "  </tbody>\n",
       "</table>\n",
       "</div>"
      ],
      "text/plain": [
       "    REF Company (Manufacturer) Company Location  Review Date  \\\n",
       "0  2454                   5150           U.S.A.         2019   \n",
       "1  2458                   5150           U.S.A.         2019   \n",
       "2  2454                   5150           U.S.A.         2019   \n",
       "3  2542                   5150           U.S.A.         2021   \n",
       "4  2546                   5150           U.S.A.         2021   \n",
       "\n",
       "  Country of Bean Origin Specific Bean Origin or Bar Name Cocoa Percent  \\\n",
       "0               Tanzania            Kokoa Kamili, batch 1           76%   \n",
       "1     Dominican Republic                  Zorzal, batch 1           76%   \n",
       "2             Madagascar           Bejofo Estate, batch 1           76%   \n",
       "3                   Fiji            Matasawalevu, batch 1           68%   \n",
       "4              Venezuela            Sur del Lago, batch 1           72%   \n",
       "\n",
       "  Ingredients     Most Memorable Characteristics  Rating  \n",
       "0    3- B,S,C          rich cocoa, fatty, bready    3.25  \n",
       "1    3- B,S,C             cocoa, vegetal, savory    3.50  \n",
       "2    3- B,S,C       cocoa, blackberry, full body    3.75  \n",
       "3    3- B,S,C                chewy, off, rubbery    3.00  \n",
       "4    3- B,S,C  fatty, earthy, moss, nutty,chalky    3.00  "
      ]
     },
     "execution_count": 50,
     "metadata": {},
     "output_type": "execute_result"
    }
   ],
   "source": [
    "ratings.head()"
   ]
  },
  {
   "cell_type": "code",
   "execution_count": 51,
   "metadata": {},
   "outputs": [
    {
     "data": {
      "text/plain": [
       "(2530, 10)"
      ]
     },
     "execution_count": 51,
     "metadata": {},
     "output_type": "execute_result"
    }
   ],
   "source": [
    "ratings.shape"
   ]
  },
  {
   "cell_type": "code",
   "execution_count": 52,
   "metadata": {},
   "outputs": [
    {
     "data": {
      "text/plain": [
       "REF\n",
       "414     10\n",
       "24       9\n",
       "387      9\n",
       "404      9\n",
       "1462     8\n",
       "        ..\n",
       "849      1\n",
       "853      1\n",
       "855      1\n",
       "1003     1\n",
       "5        1\n",
       "Name: count, Length: 630, dtype: int64"
      ]
     },
     "execution_count": 52,
     "metadata": {},
     "output_type": "execute_result"
    }
   ],
   "source": [
    "ratings.value_counts('REF')"
   ]
  },
  {
   "cell_type": "code",
   "execution_count": 53,
   "metadata": {},
   "outputs": [
    {
     "data": {
      "text/plain": [
       "Ingredients\n",
       "3- B,S,C          999\n",
       "2- B,S            718\n",
       "4- B,S,C,L        286\n",
       "5- B,S,C,V,L      184\n",
       "4- B,S,C,V        141\n",
       "2- B,S*            31\n",
       "4- B,S*,C,Sa       20\n",
       "3- B,S*,C          12\n",
       "3- B,S,L            8\n",
       "4- B,S*,C,V         7\n",
       "5-B,S,C,V,Sa        6\n",
       "1- B                6\n",
       "4- B,S,C,Sa         5\n",
       "4- B,S,V,L          5\n",
       "6-B,S,C,V,L,Sa      4\n",
       "4- B,S*,V,L         3\n",
       "3- B,S,V            3\n",
       "4- B,S*,C,L         2\n",
       "2- B,C              1\n",
       "5- B,S,C,L,Sa       1\n",
       "3- B,S*,Sa          1\n",
       "Name: count, dtype: int64"
      ]
     },
     "execution_count": 53,
     "metadata": {},
     "output_type": "execute_result"
    }
   ],
   "source": [
    "ratings.value_counts('Ingredients')"
   ]
  },
  {
   "cell_type": "code",
   "execution_count": 54,
   "metadata": {},
   "outputs": [
    {
     "data": {
      "text/plain": [
       "Company (Manufacturer)\n",
       "Soma                                       56\n",
       "Fresco                                     39\n",
       "Arete                                      32\n",
       "Bonnat                                     30\n",
       "A. Morin                                   26\n",
       "                                           ..\n",
       "Dole (Guittard)                             1\n",
       "Metropolitan                                1\n",
       "Heirloom Cacao Preservation (Brasstown)     1\n",
       "Mestico                                     1\n",
       "La Cascade du Chocolat                      1\n",
       "Name: count, Length: 580, dtype: int64"
      ]
     },
     "execution_count": 54,
     "metadata": {},
     "output_type": "execute_result"
    }
   ],
   "source": [
    "ratings.value_counts('Company (Manufacturer)')"
   ]
  },
  {
   "cell_type": "code",
   "execution_count": 55,
   "metadata": {},
   "outputs": [
    {
     "data": {
      "text/html": [
       "<div>\n",
       "<style scoped>\n",
       "    .dataframe tbody tr th:only-of-type {\n",
       "        vertical-align: middle;\n",
       "    }\n",
       "\n",
       "    .dataframe tbody tr th {\n",
       "        vertical-align: top;\n",
       "    }\n",
       "\n",
       "    .dataframe thead th {\n",
       "        text-align: right;\n",
       "    }\n",
       "</style>\n",
       "<table border=\"1\" class=\"dataframe\">\n",
       "  <thead>\n",
       "    <tr style=\"text-align: right;\">\n",
       "      <th></th>\n",
       "      <th>COMPANY NAME</th>\n",
       "      <th>CITY</th>\n",
       "      <th>STATE/PROVINCE</th>\n",
       "      <th>OWNER/MAKER</th>\n",
       "      <th>COUNTRY</th>\n",
       "    </tr>\n",
       "  </thead>\n",
       "  <tbody>\n",
       "    <tr>\n",
       "      <th>0</th>\n",
       "      <td>Choklat</td>\n",
       "      <td>Calgary</td>\n",
       "      <td>Alberta</td>\n",
       "      <td>Brad Churchill</td>\n",
       "      <td>Canada</td>\n",
       "    </tr>\n",
       "    <tr>\n",
       "      <th>1</th>\n",
       "      <td>Yukon Chocolate Company</td>\n",
       "      <td>Calgary</td>\n",
       "      <td>Alberta</td>\n",
       "      <td>Sydney Oland</td>\n",
       "      <td>Canada</td>\n",
       "    </tr>\n",
       "    <tr>\n",
       "      <th>2</th>\n",
       "      <td>Kin+Pod</td>\n",
       "      <td>Calgary</td>\n",
       "      <td>Alberta</td>\n",
       "      <td>Georden Spicer</td>\n",
       "      <td>Canada</td>\n",
       "    </tr>\n",
       "    <tr>\n",
       "      <th>3</th>\n",
       "      <td>Goldie</td>\n",
       "      <td>Calgary</td>\n",
       "      <td>Alberta</td>\n",
       "      <td>Amy Horne (instagram)</td>\n",
       "      <td>Canada</td>\n",
       "    </tr>\n",
       "    <tr>\n",
       "      <th>4</th>\n",
       "      <td>Moth Chocolate</td>\n",
       "      <td>Calgary</td>\n",
       "      <td>Alberta</td>\n",
       "      <td>Geordan Spicer (mothchocolate.com)</td>\n",
       "      <td>Canada</td>\n",
       "    </tr>\n",
       "  </tbody>\n",
       "</table>\n",
       "</div>"
      ],
      "text/plain": [
       "              COMPANY NAME     CITY STATE/PROVINCE  \\\n",
       "0                  Choklat  Calgary        Alberta   \n",
       "1  Yukon Chocolate Company  Calgary        Alberta   \n",
       "2                  Kin+Pod  Calgary        Alberta   \n",
       "3                   Goldie  Calgary        Alberta   \n",
       "4           Moth Chocolate  Calgary        Alberta   \n",
       "\n",
       "                          OWNER/MAKER COUNTRY  \n",
       "0                      Brad Churchill  Canada  \n",
       "1                        Sydney Oland  Canada  \n",
       "2                      Georden Spicer  Canada  \n",
       "3               Amy Horne (instagram)  Canada  \n",
       "4  Geordan Spicer (mothchocolate.com)  Canada  "
      ]
     },
     "execution_count": 55,
     "metadata": {},
     "output_type": "execute_result"
    }
   ],
   "source": [
    "makers.head()"
   ]
  },
  {
   "cell_type": "markdown",
   "metadata": {},
   "source": [
    "### Merging tables"
   ]
  },
  {
   "cell_type": "code",
   "execution_count": 56,
   "metadata": {},
   "outputs": [],
   "source": [
    "ratings.rename(columns={'Company (Manufacturer)':'COMPANY NAME'}, inplace=True)"
   ]
  },
  {
   "cell_type": "code",
   "execution_count": 57,
   "metadata": {},
   "outputs": [
    {
     "data": {
      "text/html": [
       "<div>\n",
       "<style scoped>\n",
       "    .dataframe tbody tr th:only-of-type {\n",
       "        vertical-align: middle;\n",
       "    }\n",
       "\n",
       "    .dataframe tbody tr th {\n",
       "        vertical-align: top;\n",
       "    }\n",
       "\n",
       "    .dataframe thead th {\n",
       "        text-align: right;\n",
       "    }\n",
       "</style>\n",
       "<table border=\"1\" class=\"dataframe\">\n",
       "  <thead>\n",
       "    <tr style=\"text-align: right;\">\n",
       "      <th></th>\n",
       "      <th>REF</th>\n",
       "      <th>COMPANY NAME</th>\n",
       "      <th>Company Location</th>\n",
       "      <th>Review Date</th>\n",
       "      <th>Country of Bean Origin</th>\n",
       "      <th>Specific Bean Origin or Bar Name</th>\n",
       "      <th>Cocoa Percent</th>\n",
       "      <th>Ingredients</th>\n",
       "      <th>Most Memorable Characteristics</th>\n",
       "      <th>Rating</th>\n",
       "      <th>CITY</th>\n",
       "      <th>STATE/PROVINCE</th>\n",
       "      <th>OWNER/MAKER</th>\n",
       "      <th>COUNTRY</th>\n",
       "    </tr>\n",
       "  </thead>\n",
       "  <tbody>\n",
       "    <tr>\n",
       "      <th>0</th>\n",
       "      <td>1462</td>\n",
       "      <td>Acalli</td>\n",
       "      <td>U.S.A.</td>\n",
       "      <td>2015</td>\n",
       "      <td>Peru</td>\n",
       "      <td>Chulucanas, El Platanal, batch 001</td>\n",
       "      <td>70%</td>\n",
       "      <td>2- B,S</td>\n",
       "      <td>yellow fruit</td>\n",
       "      <td>3.75</td>\n",
       "      <td>Gretna</td>\n",
       "      <td>Louisiana</td>\n",
       "      <td>Carol Morse</td>\n",
       "      <td>US</td>\n",
       "    </tr>\n",
       "    <tr>\n",
       "      <th>1</th>\n",
       "      <td>1470</td>\n",
       "      <td>Acalli</td>\n",
       "      <td>U.S.A.</td>\n",
       "      <td>2015</td>\n",
       "      <td>Peru</td>\n",
       "      <td>Tumbes, Norandino</td>\n",
       "      <td>70%</td>\n",
       "      <td>2- B,S</td>\n",
       "      <td>intense, nutty, cherry, cocoa</td>\n",
       "      <td>3.75</td>\n",
       "      <td>Gretna</td>\n",
       "      <td>Louisiana</td>\n",
       "      <td>Carol Morse</td>\n",
       "      <td>US</td>\n",
       "    </tr>\n",
       "    <tr>\n",
       "      <th>2</th>\n",
       "      <td>2462</td>\n",
       "      <td>Acalli</td>\n",
       "      <td>U.S.A.</td>\n",
       "      <td>2020</td>\n",
       "      <td>Mexico</td>\n",
       "      <td>Teapa, Tabasco, batch 2</td>\n",
       "      <td>74%</td>\n",
       "      <td>2- B,S</td>\n",
       "      <td>herbal, molasses, hammy</td>\n",
       "      <td>3.25</td>\n",
       "      <td>Gretna</td>\n",
       "      <td>Louisiana</td>\n",
       "      <td>Carol Morse</td>\n",
       "      <td>US</td>\n",
       "    </tr>\n",
       "    <tr>\n",
       "      <th>3</th>\n",
       "      <td>2470</td>\n",
       "      <td>Acalli</td>\n",
       "      <td>U.S.A.</td>\n",
       "      <td>2020</td>\n",
       "      <td>Peru</td>\n",
       "      <td>Barataria, El Plantal and Norandino Tumbes blend</td>\n",
       "      <td>70%</td>\n",
       "      <td>2- B,S</td>\n",
       "      <td>hot cocoa, rich, molasses</td>\n",
       "      <td>3.50</td>\n",
       "      <td>Gretna</td>\n",
       "      <td>Louisiana</td>\n",
       "      <td>Carol Morse</td>\n",
       "      <td>US</td>\n",
       "    </tr>\n",
       "    <tr>\n",
       "      <th>4</th>\n",
       "      <td>1125</td>\n",
       "      <td>Altus aka Cao Artisan</td>\n",
       "      <td>U.S.A.</td>\n",
       "      <td>2013</td>\n",
       "      <td>Venezuela</td>\n",
       "      <td>Sur del Lago</td>\n",
       "      <td>60%</td>\n",
       "      <td>4- B,S,C,L</td>\n",
       "      <td>sweet, moldy, off</td>\n",
       "      <td>2.50</td>\n",
       "      <td>Bedford</td>\n",
       "      <td>Virginia</td>\n",
       "      <td>Carl and Mary Matice</td>\n",
       "      <td>US</td>\n",
       "    </tr>\n",
       "  </tbody>\n",
       "</table>\n",
       "</div>"
      ],
      "text/plain": [
       "    REF           COMPANY NAME Company Location  Review Date  \\\n",
       "0  1462                 Acalli           U.S.A.         2015   \n",
       "1  1470                 Acalli           U.S.A.         2015   \n",
       "2  2462                 Acalli           U.S.A.         2020   \n",
       "3  2470                 Acalli           U.S.A.         2020   \n",
       "4  1125  Altus aka Cao Artisan           U.S.A.         2013   \n",
       "\n",
       "  Country of Bean Origin                  Specific Bean Origin or Bar Name  \\\n",
       "0                   Peru                Chulucanas, El Platanal, batch 001   \n",
       "1                   Peru                                 Tumbes, Norandino   \n",
       "2                 Mexico                           Teapa, Tabasco, batch 2   \n",
       "3                   Peru  Barataria, El Plantal and Norandino Tumbes blend   \n",
       "4              Venezuela                                      Sur del Lago   \n",
       "\n",
       "  Cocoa Percent Ingredients Most Memorable Characteristics  Rating     CITY  \\\n",
       "0           70%      2- B,S                   yellow fruit    3.75   Gretna   \n",
       "1           70%      2- B,S  intense, nutty, cherry, cocoa    3.75   Gretna   \n",
       "2           74%      2- B,S        herbal, molasses, hammy    3.25   Gretna   \n",
       "3           70%      2- B,S      hot cocoa, rich, molasses    3.50   Gretna   \n",
       "4           60%  4- B,S,C,L              sweet, moldy, off    2.50  Bedford   \n",
       "\n",
       "  STATE/PROVINCE           OWNER/MAKER COUNTRY  \n",
       "0      Louisiana           Carol Morse      US  \n",
       "1      Louisiana           Carol Morse      US  \n",
       "2      Louisiana           Carol Morse      US  \n",
       "3      Louisiana           Carol Morse      US  \n",
       "4       Virginia  Carl and Mary Matice      US  "
      ]
     },
     "execution_count": 57,
     "metadata": {},
     "output_type": "execute_result"
    }
   ],
   "source": [
    "df = ratings.merge(makers, on='COMPANY NAME')\n",
    "df.head()"
   ]
  },
  {
   "cell_type": "code",
   "execution_count": 58,
   "metadata": {},
   "outputs": [],
   "source": [
    "copy = df.copy()"
   ]
  },
  {
   "cell_type": "code",
   "execution_count": 59,
   "metadata": {},
   "outputs": [
    {
     "data": {
      "text/html": [
       "<div>\n",
       "<style scoped>\n",
       "    .dataframe tbody tr th:only-of-type {\n",
       "        vertical-align: middle;\n",
       "    }\n",
       "\n",
       "    .dataframe tbody tr th {\n",
       "        vertical-align: top;\n",
       "    }\n",
       "\n",
       "    .dataframe thead th {\n",
       "        text-align: right;\n",
       "    }\n",
       "</style>\n",
       "<table border=\"1\" class=\"dataframe\">\n",
       "  <thead>\n",
       "    <tr style=\"text-align: right;\">\n",
       "      <th></th>\n",
       "      <th>REF</th>\n",
       "      <th>COMPANY NAME</th>\n",
       "      <th>Most Memorable Characteristics</th>\n",
       "      <th>Rating</th>\n",
       "    </tr>\n",
       "  </thead>\n",
       "  <tbody>\n",
       "    <tr>\n",
       "      <th>0</th>\n",
       "      <td>1462</td>\n",
       "      <td>Acalli</td>\n",
       "      <td>yellow fruit</td>\n",
       "      <td>3.75</td>\n",
       "    </tr>\n",
       "    <tr>\n",
       "      <th>1</th>\n",
       "      <td>1470</td>\n",
       "      <td>Acalli</td>\n",
       "      <td>intense, nutty, cherry, cocoa</td>\n",
       "      <td>3.75</td>\n",
       "    </tr>\n",
       "    <tr>\n",
       "      <th>2</th>\n",
       "      <td>2462</td>\n",
       "      <td>Acalli</td>\n",
       "      <td>herbal, molasses, hammy</td>\n",
       "      <td>3.25</td>\n",
       "    </tr>\n",
       "    <tr>\n",
       "      <th>3</th>\n",
       "      <td>2470</td>\n",
       "      <td>Acalli</td>\n",
       "      <td>hot cocoa, rich, molasses</td>\n",
       "      <td>3.50</td>\n",
       "    </tr>\n",
       "    <tr>\n",
       "      <th>4</th>\n",
       "      <td>1125</td>\n",
       "      <td>Altus aka Cao Artisan</td>\n",
       "      <td>sweet, moldy, off</td>\n",
       "      <td>2.50</td>\n",
       "    </tr>\n",
       "  </tbody>\n",
       "</table>\n",
       "</div>"
      ],
      "text/plain": [
       "    REF           COMPANY NAME Most Memorable Characteristics  Rating\n",
       "0  1462                 Acalli                   yellow fruit    3.75\n",
       "1  1470                 Acalli  intense, nutty, cherry, cocoa    3.75\n",
       "2  2462                 Acalli        herbal, molasses, hammy    3.25\n",
       "3  2470                 Acalli      hot cocoa, rich, molasses    3.50\n",
       "4  1125  Altus aka Cao Artisan              sweet, moldy, off    2.50"
      ]
     },
     "execution_count": 59,
     "metadata": {},
     "output_type": "execute_result"
    }
   ],
   "source": [
    "df = df.drop(['Company Location','Review Date','Specific Bean Origin or Bar Name','CITY','STATE/PROVINCE','OWNER/MAKER','COUNTRY', 'Country of Bean Origin', 'Cocoa Percent', 'Ingredients'], axis = 1)\n",
    "df.head()"
   ]
  },
  {
   "cell_type": "code",
   "execution_count": 60,
   "metadata": {},
   "outputs": [
    {
     "data": {
      "text/plain": [
       "(934, 4)"
      ]
     },
     "execution_count": 60,
     "metadata": {},
     "output_type": "execute_result"
    }
   ],
   "source": [
    "df.shape"
   ]
  },
  {
   "cell_type": "markdown",
   "metadata": {},
   "source": [
    "### Distribution of ratings"
   ]
  },
  {
   "cell_type": "code",
   "execution_count": 61,
   "metadata": {},
   "outputs": [
    {
     "name": "stdout",
     "output_type": "stream",
     "text": [
      "Number of ratings: 934\n",
      "Number of unique companies: 170\n",
      "Number of unique customers: 401\n",
      "Average number of ratings per customer: 2.33\n",
      "Average number of ratings per company: 5.49\n"
     ]
    }
   ],
   "source": [
    "n_ratings = len(df)\n",
    "n_companies = df['COMPANY NAME'].nunique()\n",
    "n_customers = df['REF'].nunique()\n",
    "\n",
    "print(f\"Number of ratings: {n_ratings}\")\n",
    "print(f\"Number of unique companies: {n_companies}\")\n",
    "print(f\"Number of unique customers: {n_customers}\")\n",
    "print(f\"Average number of ratings per customer: {round(n_ratings/n_customers, 2)}\")\n",
    "print(f\"Average number of ratings per company: {round(n_ratings/n_companies, 2)}\")"
   ]
  },
  {
   "cell_type": "code",
   "execution_count": 62,
   "metadata": {},
   "outputs": [
    {
     "data": {
      "image/png": "[encoded data removed]",
      "text/plain": [
       "<Figure size 640x480 with 1 Axes>"
      ]
     },
     "metadata": {},
     "output_type": "display_data"
    }
   ],
   "source": [
    "sns.countplot(x='Rating', data=df)\n",
    "plt.title(\"Distribution of ratings\", fontsize=14)\n",
    "plt.show()"
   ]
  },
  {
   "cell_type": "code",
   "execution_count": 63,
   "metadata": {},
   "outputs": [
    {
     "name": "stdout",
     "output_type": "stream",
     "text": [
      "Mean global rating: 3.21.\n"
     ]
    }
   ],
   "source": [
    "print(f\"Mean global rating: {round(df['Rating'].mean(),2)}.\")"
   ]
  },
  {
   "cell_type": "code",
   "execution_count": 64,
   "metadata": {},
   "outputs": [
    {
     "name": "stdout",
     "output_type": "stream",
     "text": [
      "Mean rating per user: 3.2.\n"
     ]
    }
   ],
   "source": [
    "mean_ratings = ratings.groupby('REF')['Rating'].mean()\n",
    "print(f\"Mean rating per user: {round(mean_ratings.mean(),2)}.\")"
   ]
  },
  {
   "cell_type": "markdown",
   "metadata": {},
   "source": [
    "### Most frequently rated companies"
   ]
  },
  {
   "cell_type": "code",
   "execution_count": 65,
   "metadata": {},
   "outputs": [
    {
     "data": {
      "text/plain": [
       "COMPANY NAME\n",
       "Soma               56\n",
       "Fresco             39\n",
       "Arete              32\n",
       "Dandelion          25\n",
       "Guittard           22\n",
       "Dick Taylor        19\n",
       "Castronovo         19\n",
       "Mast Brothers      18\n",
       "Palette de Bine    15\n",
       "Fruition           14\n",
       "Name: count, dtype: int64"
      ]
     },
     "execution_count": 65,
     "metadata": {},
     "output_type": "execute_result"
    }
   ],
   "source": [
    "df['COMPANY NAME'].value_counts()[0:10]"
   ]
  },
  {
   "cell_type": "markdown",
   "metadata": {},
   "source": [
    "### The lowest and the highest rated companies"
   ]
  },
  {
   "cell_type": "code",
   "execution_count": 66,
   "metadata": {},
   "outputs": [
    {
     "data": {
      "text/html": [
       "<div>\n",
       "<style scoped>\n",
       "    .dataframe tbody tr th:only-of-type {\n",
       "        vertical-align: middle;\n",
       "    }\n",
       "\n",
       "    .dataframe tbody tr th {\n",
       "        vertical-align: top;\n",
       "    }\n",
       "\n",
       "    .dataframe thead th {\n",
       "        text-align: right;\n",
       "    }\n",
       "</style>\n",
       "<table border=\"1\" class=\"dataframe\">\n",
       "  <thead>\n",
       "    <tr style=\"text-align: right;\">\n",
       "      <th></th>\n",
       "      <th>REF</th>\n",
       "      <th>COMPANY NAME</th>\n",
       "      <th>Most Memorable Characteristics</th>\n",
       "      <th>Rating</th>\n",
       "    </tr>\n",
       "  </thead>\n",
       "  <tbody>\n",
       "    <tr>\n",
       "      <th>507</th>\n",
       "      <td>1189</td>\n",
       "      <td>Marsatta</td>\n",
       "      <td>waxy, rubber, medicinal</td>\n",
       "      <td>2.25</td>\n",
       "    </tr>\n",
       "  </tbody>\n",
       "</table>\n",
       "</div>"
      ],
      "text/plain": [
       "      REF COMPANY NAME Most Memorable Characteristics  Rating\n",
       "507  1189     Marsatta        waxy, rubber, medicinal    2.25"
      ]
     },
     "execution_count": 66,
     "metadata": {},
     "output_type": "execute_result"
    }
   ],
   "source": [
    "mean_ratings = df.groupby('COMPANY NAME')[['Rating']].mean()\n",
    "lowest_rated = mean_ratings['Rating'].idxmin()\n",
    "\n",
    "df[df['COMPANY NAME'] ==  lowest_rated].head(1)"
   ]
  },
  {
   "cell_type": "code",
   "execution_count": 67,
   "metadata": {},
   "outputs": [
    {
     "data": {
      "text/html": [
       "<div>\n",
       "<style scoped>\n",
       "    .dataframe tbody tr th:only-of-type {\n",
       "        vertical-align: middle;\n",
       "    }\n",
       "\n",
       "    .dataframe tbody tr th {\n",
       "        vertical-align: top;\n",
       "    }\n",
       "\n",
       "    .dataframe thead th {\n",
       "        text-align: right;\n",
       "    }\n",
       "</style>\n",
       "<table border=\"1\" class=\"dataframe\">\n",
       "  <thead>\n",
       "    <tr style=\"text-align: right;\">\n",
       "      <th></th>\n",
       "      <th>REF</th>\n",
       "      <th>COMPANY NAME</th>\n",
       "      <th>Most Memorable Characteristics</th>\n",
       "      <th>Rating</th>\n",
       "    </tr>\n",
       "  </thead>\n",
       "  <tbody>\n",
       "    <tr>\n",
       "      <th>633</th>\n",
       "      <td>196</td>\n",
       "      <td>Patric</td>\n",
       "      <td>mild tart, wine, red fruit, long</td>\n",
       "      <td>4.0</td>\n",
       "    </tr>\n",
       "  </tbody>\n",
       "</table>\n",
       "</div>"
      ],
      "text/plain": [
       "     REF COMPANY NAME    Most Memorable Characteristics  Rating\n",
       "633  196       Patric  mild tart, wine, red fruit, long     4.0"
      ]
     },
     "execution_count": 67,
     "metadata": {},
     "output_type": "execute_result"
    }
   ],
   "source": [
    "highest_rated = mean_ratings['Rating'].idxmax()\n",
    "\n",
    "df[df['COMPANY NAME'] ==  highest_rated].head(1)"
   ]
  },
  {
   "cell_type": "markdown",
   "metadata": {},
   "source": [
    "### Characteristics"
   ]
  },
  {
   "cell_type": "code",
   "execution_count": 68,
   "metadata": {},
   "outputs": [],
   "source": [
    "list_stopwords = set(stopwords.words('english'))"
   ]
  },
  {
   "cell_type": "code",
   "execution_count": 69,
   "metadata": {},
   "outputs": [],
   "source": [
    "copyy = df.copy()"
   ]
  },
  {
   "cell_type": "code",
   "execution_count": 70,
   "metadata": {},
   "outputs": [],
   "source": [
    "df['Caracteristics'] = df['Most Memorable Characteristics'].str.lower()\n",
    "df['Caracteristics'] = df['Caracteristics'].apply(word_tokenize)\n",
    "df['Caracteristics'] = df['Caracteristics'].apply(lambda x: [word for word in x if word not in list_stopwords])\n",
    "df['Caracteristics'] = df['Caracteristics'].apply(lambda x : [word.translate(str.maketrans('', '', string.punctuation)) for word in x])\n",
    "df['Caracteristics'] = df['Caracteristics'].apply(lambda x : [word for word in x if len(word) > 1])"
   ]
  },
  {
   "cell_type": "code",
   "execution_count": 71,
   "metadata": {
    "scrolled": true
   },
   "outputs": [
    {
     "name": "stdout",
     "output_type": "stream",
     "text": [
      "There are 355 caracteristics.\n"
     ]
    },
    {
     "data": {
      "text/plain": [
       "Counter({'cocoa': 156,\n",
       "         'fruit': 126,\n",
       "         'sweet': 116,\n",
       "         'roasty': 93,\n",
       "         'nutty': 90,\n",
       "         'mild': 88,\n",
       "         'sour': 79,\n",
       "         'earthy': 72,\n",
       "         'intense': 71,\n",
       "         'molasses': 58,\n",
       "         'floral': 58,\n",
       "         'rich': 56,\n",
       "         'creamy': 56,\n",
       "         'sandy': 55,\n",
       "         'spicy': 50,\n",
       "         'fatty': 45,\n",
       "         'vanilla': 43,\n",
       "         'bitter': 42,\n",
       "         'tart': 42,\n",
       "         'dried': 41,\n",
       "         'sticky': 35,\n",
       "         'woody': 35,\n",
       "         'gritty': 34,\n",
       "         'burnt': 33,\n",
       "         'spice': 32,\n",
       "         'berry': 32,\n",
       "         'caramel': 30,\n",
       "         'fruity': 29,\n",
       "         'dry': 28,\n",
       "         'coffee': 28,\n",
       "         'smoke': 26,\n",
       "         'brownie': 26,\n",
       "         'roast': 24,\n",
       "         'cherry': 23,\n",
       "         'red': 22,\n",
       "         'metallic': 22,\n",
       "         'black': 20,\n",
       "         'astringent': 20,\n",
       "         'grassy': 20,\n",
       "         'pungent': 19,\n",
       "         'notes': 19,\n",
       "         'dairy': 18,\n",
       "         'complex': 18,\n",
       "         'acidic': 18,\n",
       "         'licorice': 18,\n",
       "         'orange': 17,\n",
       "         'oily': 17,\n",
       "         'rubber': 16,\n",
       "         'strawberry': 15,\n",
       "         'high': 15,\n",
       "         'strong': 14,\n",
       "         'pepper': 14,\n",
       "         'choco': 14,\n",
       "         'tobacco': 14,\n",
       "         'hammy': 13,\n",
       "         'nut': 13,\n",
       "         'citrus': 13,\n",
       "         'tangy': 13,\n",
       "         'honey': 12,\n",
       "         'medicinal': 12,\n",
       "         'green': 11,\n",
       "         'slight': 11,\n",
       "         'nuts': 11,\n",
       "         'rubbery': 11,\n",
       "         'banana': 11,\n",
       "         'roasted': 11,\n",
       "         'heavy': 11,\n",
       "         'coarse': 10,\n",
       "         'lemon': 10,\n",
       "         'harsh': 10,\n",
       "         'basic': 10,\n",
       "         'grapes': 10,\n",
       "         'melon': 10,\n",
       "         'sl': 10,\n",
       "         'bold': 10,\n",
       "         'dark': 9,\n",
       "         'balanced': 9,\n",
       "         'fig': 9,\n",
       "         'bright': 9,\n",
       "         'smooth': 9,\n",
       "         'muted': 9,\n",
       "         'coconut': 9,\n",
       "         'edge': 9,\n",
       "         'smokey': 8,\n",
       "         'chalky': 8,\n",
       "         'rum': 8,\n",
       "         'base': 8,\n",
       "         'raisins': 8,\n",
       "         'tea': 8,\n",
       "         'deep': 8,\n",
       "         'late': 8,\n",
       "         'bourbon': 7,\n",
       "         'simple': 7,\n",
       "         'raspberry': 7,\n",
       "         'long': 7,\n",
       "         'leather': 7,\n",
       "         'blueberry': 7,\n",
       "         'vegetal': 7,\n",
       "         'blackberry': 7,\n",
       "         'raisin': 7,\n",
       "         'mint': 6,\n",
       "         'chemical': 6,\n",
       "         'butterscotch': 6,\n",
       "         'peanut': 6,\n",
       "         'butter': 6,\n",
       "         'delicate': 6,\n",
       "         'slightly': 6,\n",
       "         'unrefined': 6,\n",
       "         'nibs': 6,\n",
       "         'flavor': 6,\n",
       "         'chocolate': 6,\n",
       "         'palm': 6,\n",
       "         'grits': 6,\n",
       "         'powdery': 5,\n",
       "         'cardboard': 5,\n",
       "         'anise': 5,\n",
       "         'leathery': 5,\n",
       "         'slow': 5,\n",
       "         'note': 5,\n",
       "         'tannic': 5,\n",
       "         'fudgey': 5,\n",
       "         'malt': 5,\n",
       "         'candied': 5,\n",
       "         'musty': 5,\n",
       "         'bland': 5,\n",
       "         'acidity': 4,\n",
       "         'savory': 4,\n",
       "         'light': 4,\n",
       "         'chewy': 4,\n",
       "         'subtle': 4,\n",
       "         'plum': 4,\n",
       "         'toffee': 4,\n",
       "         'mellow': 4,\n",
       "         'ham': 4,\n",
       "         'hint': 4,\n",
       "         'candy': 4,\n",
       "         'grape': 4,\n",
       "         'flat': 4,\n",
       "         'tropical': 4,\n",
       "         'perfume': 4,\n",
       "         'dirty': 4,\n",
       "         'robust': 4,\n",
       "         'cheese': 4,\n",
       "         'ending': 4,\n",
       "         'hot': 3,\n",
       "         'waxy': 3,\n",
       "         'melt': 3,\n",
       "         'chocolatey': 3,\n",
       "         'lasting': 3,\n",
       "         'woodsy': 3,\n",
       "         'candylike': 3,\n",
       "         'buttery': 3,\n",
       "         'rustic': 3,\n",
       "         'soapy': 3,\n",
       "         'pure': 3,\n",
       "         'hazelnut': 3,\n",
       "         'full': 3,\n",
       "         'dominant': 3,\n",
       "         'raisiny': 3,\n",
       "         'mocha': 3,\n",
       "         'spicey': 3,\n",
       "         'dominate': 3,\n",
       "         'nutmeg': 3,\n",
       "         'like': 3,\n",
       "         'overly': 3,\n",
       "         'swiss': 3,\n",
       "         'miss': 3,\n",
       "         'cream': 3,\n",
       "         'wine': 3,\n",
       "         'fudge': 3,\n",
       "         'metal': 3,\n",
       "         'herbal': 2,\n",
       "         'cinamon': 2,\n",
       "         'toast': 2,\n",
       "         'chunky': 2,\n",
       "         'short': 2,\n",
       "         'burn': 2,\n",
       "         'mushroom': 2,\n",
       "         'alcohol': 2,\n",
       "         'flour': 2,\n",
       "         'diluted': 2,\n",
       "         'grass': 2,\n",
       "         'crisp': 2,\n",
       "         'cooked': 2,\n",
       "         'cherries': 2,\n",
       "         'odd': 2,\n",
       "         'ashey': 2,\n",
       "         'classic': 2,\n",
       "         'fresh': 2,\n",
       "         'astringency': 2,\n",
       "         'ripe': 2,\n",
       "         'apple': 2,\n",
       "         'faint': 2,\n",
       "         'well': 2,\n",
       "         'walnut': 2,\n",
       "         'cinnamon': 2,\n",
       "         'dense': 2,\n",
       "         'ginger': 2,\n",
       "         'covered': 2,\n",
       "         'bready': 2,\n",
       "         'mildly': 2,\n",
       "         'color': 2,\n",
       "         'develop': 2,\n",
       "         'cranberry': 2,\n",
       "         'gateway': 2,\n",
       "         'hay': 2,\n",
       "         'soil': 2,\n",
       "         'sharp': 2,\n",
       "         'berries': 2,\n",
       "         'tang': 2,\n",
       "         'vinegar': 2,\n",
       "         'maple': 2,\n",
       "         'marshmallow': 2,\n",
       "         'surface': 2,\n",
       "         'undertone': 2,\n",
       "         'earth': 2,\n",
       "         'pronounced': 2,\n",
       "         'milk': 2,\n",
       "         'fuel': 2,\n",
       "         'peach': 2,\n",
       "         'yellow': 1,\n",
       "         'moldy': 1,\n",
       "         'grit': 1,\n",
       "         'astringnet': 1,\n",
       "         'earthiness': 1,\n",
       "         'cashew': 1,\n",
       "         'mysterious': 1,\n",
       "         'appealing': 1,\n",
       "         'muddy': 1,\n",
       "         'herbs': 1,\n",
       "         'strawberries': 1,\n",
       "         'grounds': 1,\n",
       "         'rounded': 1,\n",
       "         'alocohol': 1,\n",
       "         'lime': 1,\n",
       "         'unique': 1,\n",
       "         'refreshing': 1,\n",
       "         'wood': 1,\n",
       "         'almost': 1,\n",
       "         'one': 1,\n",
       "         'dimensional': 1,\n",
       "         'unusually': 1,\n",
       "         'intensity': 1,\n",
       "         'med': 1,\n",
       "         'leafy': 1,\n",
       "         'atypical': 1,\n",
       "         'early': 1,\n",
       "         'mass': 1,\n",
       "         'market': 1,\n",
       "         'cigarette': 1,\n",
       "         'butt': 1,\n",
       "         'subdued': 1,\n",
       "         'perfectly': 1,\n",
       "         'hit': 1,\n",
       "         'papery': 1,\n",
       "         'woodygreen': 1,\n",
       "         'oreo': 1,\n",
       "         'shell': 1,\n",
       "         'gummy': 1,\n",
       "         'moderate': 1,\n",
       "         'pudding': 1,\n",
       "         'soda': 1,\n",
       "         'distinct': 1,\n",
       "         'graham': 1,\n",
       "         'nice': 1,\n",
       "         'raisns': 1,\n",
       "         'defined': 1,\n",
       "         'dates': 1,\n",
       "         'smoth': 1,\n",
       "         'ultra': 1,\n",
       "         'dominated': 1,\n",
       "         'sandpaper': 1,\n",
       "         'cough': 1,\n",
       "         'medicine': 1,\n",
       "         'olive': 1,\n",
       "         'grapefruit': 1,\n",
       "         'blackberries': 1,\n",
       "         'flavorful': 1,\n",
       "         'chlorine': 1,\n",
       "         'undefined': 1,\n",
       "         'hebs': 1,\n",
       "         'current': 1,\n",
       "         'front': 1,\n",
       "         'spiceherb': 1,\n",
       "         'peel': 1,\n",
       "         'moss': 1,\n",
       "         'dutched': 1,\n",
       "         'xl': 1,\n",
       "         'texture': 1,\n",
       "         'salt': 1,\n",
       "         'bodied': 1,\n",
       "         'unbalanced': 1,\n",
       "         'flavors': 1,\n",
       "         'oranges': 1,\n",
       "         'pear': 1,\n",
       "         'wet': 1,\n",
       "         'menthol': 1,\n",
       "         'molassses': 1,\n",
       "         'herb': 1,\n",
       "         'ground': 1,\n",
       "         'sligthly': 1,\n",
       "         'batter': 1,\n",
       "         'roaster': 1,\n",
       "         'petro': 1,\n",
       "         'dirt': 1,\n",
       "         'sugar': 1,\n",
       "         'single': 1,\n",
       "         'damp': 1,\n",
       "         'sourness': 1,\n",
       "         'silky': 1,\n",
       "         'ashy': 1,\n",
       "         'start': 1,\n",
       "         'cheesy': 1,\n",
       "         'dominates': 1,\n",
       "         'poor': 1,\n",
       "         'aftertaste': 1,\n",
       "         'forward': 1,\n",
       "         'pistachio': 1,\n",
       "         'powerful': 1,\n",
       "         'add': 1,\n",
       "         'bitterness': 1,\n",
       "         'mildy': 1,\n",
       "         'nuanced': 1,\n",
       "         'distinquished': 1,\n",
       "         'pasty': 1,\n",
       "         'refined': 1,\n",
       "         'yogurt': 1,\n",
       "         'thick': 1,\n",
       "         'mark': 1,\n",
       "         'raw': 1,\n",
       "         'smoked': 1,\n",
       "         'mold': 1,\n",
       "         'super': 1,\n",
       "         'temper': 1,\n",
       "         'uneven': 1,\n",
       "         'cranberries': 1,\n",
       "         'mix': 1,\n",
       "         'ice': 1,\n",
       "         'clove': 1,\n",
       "         'accessible': 1,\n",
       "         'evolves': 1,\n",
       "         'hints': 1,\n",
       "         'spices': 1,\n",
       "         'grainy': 1,\n",
       "         'blueberries': 1,\n",
       "         'watering': 1,\n",
       "         'charcoal': 1,\n",
       "         'almond': 1,\n",
       "         'walnuts': 1,\n",
       "         'easy': 1,\n",
       "         'dominating': 1,\n",
       "         'sligt': 1,\n",
       "         'spiciness': 1,\n",
       "         'spciy': 1,\n",
       "         'cardamom': 1})"
      ]
     },
     "execution_count": 71,
     "metadata": {},
     "output_type": "execute_result"
    }
   ],
   "source": [
    "caracteristic_frequency = Counter(c for caracteristics in df['Caracteristics'] for c in caracteristics)\n",
    "\n",
    "print(f\"There are {len(caracteristic_frequency)} caracteristics.\")\n",
    "\n",
    "caracteristic_frequency"
   ]
  },
  {
   "cell_type": "code",
   "execution_count": 72,
   "metadata": {},
   "outputs": [
    {
     "data": {
      "image/png": "[encoded data removed]",
      "text/plain": [
       "<Figure size 640x480 with 1 Axes>"
      ]
     },
     "metadata": {},
     "output_type": "display_data"
    }
   ],
   "source": [
    "caracteristic_frequency_df = pd.DataFrame([caracteristic_frequency]).T.reset_index()\n",
    "caracteristic_frequency_df.columns = ['caracteristic', 'count']\n",
    "\n",
    "sns.barplot(x='caracteristic', y='count', data=caracteristic_frequency_df.head(30).sort_values(by='count', ascending=False))\n",
    "plt.xticks(rotation=90);"
   ]
  },
  {
   "cell_type": "markdown",
   "metadata": {},
   "source": [
    "### Data Preprocessing"
   ]
  },
  {
   "cell_type": "code",
   "execution_count": 73,
   "metadata": {},
   "outputs": [],
   "source": [
    "def create_X(df):\n",
    "    \"\"\"\n",
    "    Generates a sparse matrix.\n",
    "    \n",
    "    Args:\n",
    "        df: pandas dataframe containing 3 columns (REF, COMPANY NAME, Rating)\n",
    "    \n",
    "    Returns:\n",
    "        X: sparse matrix\n",
    "        customer_mapper: dict that maps customer id's to customer indices\n",
    "        company_mapper: dict that maps company id's to company indices\n",
    "        customer_inv_mapper: dict that maps customer indices to customer id's\n",
    "        company_inv_mapper: dict that maps company indices to company id's\n",
    "    \"\"\"\n",
    "    M = df['REF'].nunique()\n",
    "    N = df['COMPANY NAME'].nunique()\n",
    "\n",
    "    customer_mapper = dict(zip(np.unique(df[\"REF\"]), range(M)))\n",
    "    company_mapper = dict(zip(np.unique(df[\"COMPANY NAME\"]), range(N)))\n",
    "    \n",
    "    customer_inv_mapper = dict(zip(range(M), np.unique(df[\"REF\"])))\n",
    "    company_inv_mapper = dict(zip(range(N), np.unique(df[\"COMPANY NAME\"])))\n",
    "    \n",
    "    user_index = [customer_mapper[i] for i in df['REF']]\n",
    "    item_index = [company_mapper[i] for i in df['COMPANY NAME']]\n",
    "\n",
    "    X = csr_matrix((df[\"Rating\"], (user_index, item_index)), shape=(M, N))\n",
    "    \n",
    "    return X, customer_mapper, company_mapper, customer_inv_mapper, company_inv_mapper\n",
    "\n",
    "X, customer_mapper, company_mapper, customer_inv_mapper, company_inv_mapper = create_X(df)"
   ]
  },
  {
   "cell_type": "markdown",
   "metadata": {},
   "source": [
    "### Evaluating Sparsity"
   ]
  },
  {
   "cell_type": "code",
   "execution_count": 74,
   "metadata": {},
   "outputs": [
    {
     "name": "stdout",
     "output_type": "stream",
     "text": [
      "Matrix sparsity: 0.88%\n"
     ]
    }
   ],
   "source": [
    "n_total = X.shape[0] * X.shape[1]\n",
    "n_ratings = X.nnz\n",
    "sparsity = n_ratings/n_total\n",
    "print(f\"Matrix sparsity: {round(sparsity*100,2)}%\")"
   ]
  },
  {
   "cell_type": "code",
   "execution_count": 75,
   "metadata": {},
   "outputs": [
    {
     "data": {
      "text/plain": [
       "401"
      ]
     },
     "execution_count": 75,
     "metadata": {},
     "output_type": "execute_result"
    }
   ],
   "source": [
    "n_ratings_per_customer = X.getnnz(axis=1)\n",
    "len(n_ratings_per_customer)"
   ]
  },
  {
   "cell_type": "code",
   "execution_count": 76,
   "metadata": {},
   "outputs": [
    {
     "data": {
      "text/plain": [
       "170"
      ]
     },
     "execution_count": 76,
     "metadata": {},
     "output_type": "execute_result"
    }
   ],
   "source": [
    "n_ratings_per_company = X.getnnz(axis=0)\n",
    "len(n_ratings_per_company)"
   ]
  },
  {
   "cell_type": "code",
   "execution_count": 77,
   "metadata": {},
   "outputs": [
    {
     "name": "stderr",
     "output_type": "stream",
     "text": [
      "C:\\Users\\kondr\\anaconda3\\Lib\\site-packages\\seaborn\\_oldcore.py:1119: FutureWarning: use_inf_as_na option is deprecated and will be removed in a future version. Convert inf values to NaN before operating instead.\n",
      "  with pd.option_context('mode.use_inf_as_na', True):\n",
      "C:\\Users\\kondr\\anaconda3\\Lib\\site-packages\\seaborn\\_oldcore.py:1119: FutureWarning: use_inf_as_na option is deprecated and will be removed in a future version. Convert inf values to NaN before operating instead.\n",
      "  with pd.option_context('mode.use_inf_as_na', True):\n"
     ]
    },
    {
     "data": {
      "image/png": "[encoded data removed]",
      "text/plain": [
       "<Figure size 1600x400 with 2 Axes>"
      ]
     },
     "metadata": {},
     "output_type": "display_data"
    }
   ],
   "source": [
    "plt.figure(figsize=(16,4))\n",
    "plt.subplot(1,2,1)\n",
    "sns.kdeplot(n_ratings_per_customer, fill=True)\n",
    "plt.xlim(0)\n",
    "plt.title(\"Number of Ratings Per Customer\", fontsize=14)\n",
    "plt.xlabel(\"number of ratings per customer\")\n",
    "plt.ylabel(\"density\")\n",
    "plt.subplot(1,2,2)\n",
    "sns.kdeplot(n_ratings_per_company, fill=True)\n",
    "plt.xlim(0)\n",
    "plt.title(\"Number of Ratings Per Company\", fontsize=14)\n",
    "plt.xlabel(\"number of ratings per Company\")\n",
    "plt.ylabel(\"density\")\n",
    "plt.show();"
   ]
  },
  {
   "cell_type": "markdown",
   "metadata": {},
   "source": [
    "### Recommendations with k-Nearest Neighbors"
   ]
  },
  {
   "cell_type": "code",
   "execution_count": 78,
   "metadata": {},
   "outputs": [],
   "source": [
    "def find_similar_companies(company, X, company_mapper, company_inv_mapper, k, metric='cosine'):\n",
    "    \"\"\"\n",
    "    Finds k-nearest neighbours for a given company.\n",
    "    \n",
    "    Args:\n",
    "        company: company of interest\n",
    "        X: user-item utility matrix\n",
    "        k: number of similar companies to retrieve\n",
    "        metric: distance metric for kNN calculations\n",
    "    \n",
    "    Output: returns list of k similar companies and their similarity scores\n",
    "    \"\"\"\n",
    "    X = X.T\n",
    "    neighbour_ids = []\n",
    "    similarity_scores = []  # Store similarity scores\n",
    "    \n",
    "    company_ind = company_mapper[company]\n",
    "    company_vec = X[company_ind]\n",
    "    if isinstance(company_vec, (np.ndarray)):\n",
    "        company_vec = company_vec.reshape(1,-1)\n",
    "    \n",
    "    kNN = NearestNeighbors(n_neighbors=k+1, algorithm=\"brute\", metric=metric)\n",
    "    kNN.fit(X)\n",
    "    neighbour = kNN.kneighbors(company_vec, return_distance=False)\n",
    "    \n",
    "    for i in range(1, k+1):  # Start from 1 to exclude the input company\n",
    "        n = neighbour.item(i)\n",
    "        neighbour_ids.append(company_inv_mapper[n])\n",
    "        similar_company_vec = X[n]\n",
    "        similarity = cosine_similarity(company_vec, similar_company_vec)\n",
    "        similarity_scores.append(similarity.item())\n",
    "    \n",
    "    return neighbour_ids, similarity_scores"
   ]
  },
  {
   "cell_type": "markdown",
   "metadata": {},
   "source": [
    "#### Similar companies to Fresco based on rating"
   ]
  },
  {
   "cell_type": "code",
   "execution_count": 79,
   "metadata": {},
   "outputs": [
    {
     "name": "stdout",
     "output_type": "stream",
     "text": [
      "If you liked Fresco, you may like:\n",
      "\n",
      "Gotham (Similarity Score: 0.3365902235612376)\n",
      "Kasama (Similarity Score: 0.2020140186431894)\n",
      "Ninth (9th) & Larkin (Similarity Score: 0.09902570016033632)\n",
      "Olivia (Similarity Score: 0.09696672894873092)\n",
      "Dandelion (Similarity Score: 0.07377304534909679)\n",
      "Ritual (Similarity Score: 0.05981754941704401)\n",
      "Tocoti (Similarity Score: 0.05980468345612378)\n",
      "Arete (Similarity Score: 0.05673866736059885)\n",
      "Soma (Similarity Score: 0.04630726361501702)\n",
      "TCHO (Similarity Score: 0.04487205908716322)\n"
     ]
    }
   ],
   "source": [
    "similar_companies, similarity_scores = find_similar_companies(\"Fresco\", X, company_mapper, company_inv_mapper, 10)\n",
    "print(\"If you liked Fresco, you may like:\\n\")\n",
    "for comp, score in zip(similar_companies, similarity_scores):\n",
    "    print(f\"{comp} (Similarity Score: {score})\")"
   ]
  },
  {
   "cell_type": "markdown",
   "metadata": {},
   "source": [
    "### Handling the cold-start problem"
   ]
  },
  {
   "cell_type": "code",
   "execution_count": 80,
   "metadata": {},
   "outputs": [
    {
     "data": {
      "text/html": [
       "<div>\n",
       "<style scoped>\n",
       "    .dataframe tbody tr th:only-of-type {\n",
       "        vertical-align: middle;\n",
       "    }\n",
       "\n",
       "    .dataframe tbody tr th {\n",
       "        vertical-align: top;\n",
       "    }\n",
       "\n",
       "    .dataframe thead th {\n",
       "        text-align: right;\n",
       "    }\n",
       "</style>\n",
       "<table border=\"1\" class=\"dataframe\">\n",
       "  <thead>\n",
       "    <tr style=\"text-align: right;\">\n",
       "      <th></th>\n",
       "      <th>REF</th>\n",
       "      <th>COMPANY NAME</th>\n",
       "      <th>Most Memorable Characteristics</th>\n",
       "      <th>Rating</th>\n",
       "      <th>Caracteristics</th>\n",
       "    </tr>\n",
       "  </thead>\n",
       "  <tbody>\n",
       "    <tr>\n",
       "      <th>0</th>\n",
       "      <td>1462</td>\n",
       "      <td>Acalli</td>\n",
       "      <td>yellow fruit</td>\n",
       "      <td>3.75</td>\n",
       "      <td>[yellow, fruit]</td>\n",
       "    </tr>\n",
       "    <tr>\n",
       "      <th>1</th>\n",
       "      <td>1470</td>\n",
       "      <td>Acalli</td>\n",
       "      <td>intense, nutty, cherry, cocoa</td>\n",
       "      <td>3.75</td>\n",
       "      <td>[intense, nutty, cherry, cocoa]</td>\n",
       "    </tr>\n",
       "    <tr>\n",
       "      <th>2</th>\n",
       "      <td>2462</td>\n",
       "      <td>Acalli</td>\n",
       "      <td>herbal, molasses, hammy</td>\n",
       "      <td>3.25</td>\n",
       "      <td>[herbal, molasses, hammy]</td>\n",
       "    </tr>\n",
       "    <tr>\n",
       "      <th>3</th>\n",
       "      <td>2470</td>\n",
       "      <td>Acalli</td>\n",
       "      <td>hot cocoa, rich, molasses</td>\n",
       "      <td>3.50</td>\n",
       "      <td>[hot, cocoa, rich, molasses]</td>\n",
       "    </tr>\n",
       "    <tr>\n",
       "      <th>4</th>\n",
       "      <td>1125</td>\n",
       "      <td>Altus aka Cao Artisan</td>\n",
       "      <td>sweet, moldy, off</td>\n",
       "      <td>2.50</td>\n",
       "      <td>[sweet, moldy]</td>\n",
       "    </tr>\n",
       "    <tr>\n",
       "      <th>...</th>\n",
       "      <td>...</td>\n",
       "      <td>...</td>\n",
       "      <td>...</td>\n",
       "      <td>...</td>\n",
       "      <td>...</td>\n",
       "    </tr>\n",
       "    <tr>\n",
       "      <th>929</th>\n",
       "      <td>1582</td>\n",
       "      <td>Zak's</td>\n",
       "      <td>very sweet, heavy roast, nuts</td>\n",
       "      <td>3.00</td>\n",
       "      <td>[sweet, heavy, roast, nuts]</td>\n",
       "    </tr>\n",
       "    <tr>\n",
       "      <th>930</th>\n",
       "      <td>1578</td>\n",
       "      <td>Zak's</td>\n",
       "      <td>nutty, earthy, hammy</td>\n",
       "      <td>3.25</td>\n",
       "      <td>[nutty, earthy, hammy]</td>\n",
       "    </tr>\n",
       "    <tr>\n",
       "      <th>931</th>\n",
       "      <td>1578</td>\n",
       "      <td>Zak's</td>\n",
       "      <td>sandy, mild sour, mild fruit</td>\n",
       "      <td>3.25</td>\n",
       "      <td>[sandy, mild, sour, mild, fruit]</td>\n",
       "    </tr>\n",
       "    <tr>\n",
       "      <th>932</th>\n",
       "      <td>1578</td>\n",
       "      <td>Zak's</td>\n",
       "      <td>sandy, nutty, mocha</td>\n",
       "      <td>3.25</td>\n",
       "      <td>[sandy, nutty, mocha]</td>\n",
       "    </tr>\n",
       "    <tr>\n",
       "      <th>933</th>\n",
       "      <td>1578</td>\n",
       "      <td>Zak's</td>\n",
       "      <td>rich base cocoa, sweet</td>\n",
       "      <td>3.50</td>\n",
       "      <td>[rich, base, cocoa, sweet]</td>\n",
       "    </tr>\n",
       "  </tbody>\n",
       "</table>\n",
       "<p>934 rows × 5 columns</p>\n",
       "</div>"
      ],
      "text/plain": [
       "      REF           COMPANY NAME Most Memorable Characteristics  Rating  \\\n",
       "0    1462                 Acalli                   yellow fruit    3.75   \n",
       "1    1470                 Acalli  intense, nutty, cherry, cocoa    3.75   \n",
       "2    2462                 Acalli        herbal, molasses, hammy    3.25   \n",
       "3    2470                 Acalli      hot cocoa, rich, molasses    3.50   \n",
       "4    1125  Altus aka Cao Artisan              sweet, moldy, off    2.50   \n",
       "..    ...                    ...                            ...     ...   \n",
       "929  1582                  Zak's  very sweet, heavy roast, nuts    3.00   \n",
       "930  1578                  Zak's           nutty, earthy, hammy    3.25   \n",
       "931  1578                  Zak's   sandy, mild sour, mild fruit    3.25   \n",
       "932  1578                  Zak's            sandy, nutty, mocha    3.25   \n",
       "933  1578                  Zak's         rich base cocoa, sweet    3.50   \n",
       "\n",
       "                       Caracteristics  \n",
       "0                     [yellow, fruit]  \n",
       "1     [intense, nutty, cherry, cocoa]  \n",
       "2           [herbal, molasses, hammy]  \n",
       "3        [hot, cocoa, rich, molasses]  \n",
       "4                      [sweet, moldy]  \n",
       "..                                ...  \n",
       "929       [sweet, heavy, roast, nuts]  \n",
       "930            [nutty, earthy, hammy]  \n",
       "931  [sandy, mild, sour, mild, fruit]  \n",
       "932             [sandy, nutty, mocha]  \n",
       "933        [rich, base, cocoa, sweet]  \n",
       "\n",
       "[934 rows x 5 columns]"
      ]
     },
     "execution_count": 80,
     "metadata": {},
     "output_type": "execute_result"
    }
   ],
   "source": [
    "df"
   ]
  },
  {
   "cell_type": "code",
   "execution_count": null,
   "metadata": {
    "scrolled": true
   },
   "outputs": [],
   "source": [
    "cara = set(c for C in df['Caracteristics'] for c in C)\n",
    "\n",
    "for c in cara:\n",
    "    df[c] = df['Caracteristics'].transform(lambda x: int(c in x))\n",
    "    \n",
    "choc_cara = df.drop(columns=['REF', 'COMPANY NAME','Country of Bean Origin','Cocoa Percent','Ingredients','Rating', 'Most Memorable Characteristics', 'Caracteristics'])"
   ]
  },
  {
   "cell_type": "code",
   "execution_count": 82,
   "metadata": {},
   "outputs": [
    {
     "data": {
      "text/html": [
       "<div>\n",
       "<style scoped>\n",
       "    .dataframe tbody tr th:only-of-type {\n",
       "        vertical-align: middle;\n",
       "    }\n",
       "\n",
       "    .dataframe tbody tr th {\n",
       "        vertical-align: top;\n",
       "    }\n",
       "\n",
       "    .dataframe thead th {\n",
       "        text-align: right;\n",
       "    }\n",
       "</style>\n",
       "<table border=\"1\" class=\"dataframe\">\n",
       "  <thead>\n",
       "    <tr style=\"text-align: right;\">\n",
       "      <th></th>\n",
       "      <th>coffee</th>\n",
       "      <th>soapy</th>\n",
       "      <th>aftertaste</th>\n",
       "      <th>diluted</th>\n",
       "      <th>base</th>\n",
       "      <th>lemon</th>\n",
       "      <th>vinegar</th>\n",
       "      <th>red</th>\n",
       "      <th>milk</th>\n",
       "      <th>flavor</th>\n",
       "      <th>...</th>\n",
       "      <th>cream</th>\n",
       "      <th>thick</th>\n",
       "      <th>overly</th>\n",
       "      <th>vegetal</th>\n",
       "      <th>hebs</th>\n",
       "      <th>miss</th>\n",
       "      <th>rubbery</th>\n",
       "      <th>cherry</th>\n",
       "      <th>current</th>\n",
       "      <th>moderate</th>\n",
       "    </tr>\n",
       "  </thead>\n",
       "  <tbody>\n",
       "    <tr>\n",
       "      <th>0</th>\n",
       "      <td>0</td>\n",
       "      <td>0</td>\n",
       "      <td>0</td>\n",
       "      <td>0</td>\n",
       "      <td>0</td>\n",
       "      <td>0</td>\n",
       "      <td>0</td>\n",
       "      <td>0</td>\n",
       "      <td>0</td>\n",
       "      <td>0</td>\n",
       "      <td>...</td>\n",
       "      <td>0</td>\n",
       "      <td>0</td>\n",
       "      <td>0</td>\n",
       "      <td>0</td>\n",
       "      <td>0</td>\n",
       "      <td>0</td>\n",
       "      <td>0</td>\n",
       "      <td>0</td>\n",
       "      <td>0</td>\n",
       "      <td>0</td>\n",
       "    </tr>\n",
       "    <tr>\n",
       "      <th>1</th>\n",
       "      <td>0</td>\n",
       "      <td>0</td>\n",
       "      <td>0</td>\n",
       "      <td>0</td>\n",
       "      <td>0</td>\n",
       "      <td>0</td>\n",
       "      <td>0</td>\n",
       "      <td>0</td>\n",
       "      <td>0</td>\n",
       "      <td>0</td>\n",
       "      <td>...</td>\n",
       "      <td>0</td>\n",
       "      <td>0</td>\n",
       "      <td>0</td>\n",
       "      <td>0</td>\n",
       "      <td>0</td>\n",
       "      <td>0</td>\n",
       "      <td>0</td>\n",
       "      <td>1</td>\n",
       "      <td>0</td>\n",
       "      <td>0</td>\n",
       "    </tr>\n",
       "    <tr>\n",
       "      <th>2</th>\n",
       "      <td>0</td>\n",
       "      <td>0</td>\n",
       "      <td>0</td>\n",
       "      <td>0</td>\n",
       "      <td>0</td>\n",
       "      <td>0</td>\n",
       "      <td>0</td>\n",
       "      <td>0</td>\n",
       "      <td>0</td>\n",
       "      <td>0</td>\n",
       "      <td>...</td>\n",
       "      <td>0</td>\n",
       "      <td>0</td>\n",
       "      <td>0</td>\n",
       "      <td>0</td>\n",
       "      <td>0</td>\n",
       "      <td>0</td>\n",
       "      <td>0</td>\n",
       "      <td>0</td>\n",
       "      <td>0</td>\n",
       "      <td>0</td>\n",
       "    </tr>\n",
       "  </tbody>\n",
       "</table>\n",
       "<p>3 rows × 355 columns</p>\n",
       "</div>"
      ],
      "text/plain": [
       "   coffee  soapy  aftertaste  diluted  base  lemon  vinegar  red  milk  \\\n",
       "0       0      0           0        0     0      0        0    0     0   \n",
       "1       0      0           0        0     0      0        0    0     0   \n",
       "2       0      0           0        0     0      0        0    0     0   \n",
       "\n",
       "   flavor  ...  cream  thick  overly  vegetal  hebs  miss  rubbery  cherry  \\\n",
       "0       0  ...      0      0       0        0     0     0        0       0   \n",
       "1       0  ...      0      0       0        0     0     0        0       1   \n",
       "2       0  ...      0      0       0        0     0     0        0       0   \n",
       "\n",
       "   current  moderate  \n",
       "0        0         0  \n",
       "1        0         0  \n",
       "2        0         0  \n",
       "\n",
       "[3 rows x 355 columns]"
      ]
     },
     "execution_count": 82,
     "metadata": {},
     "output_type": "execute_result"
    }
   ],
   "source": [
    "choc_cara.head(3)"
   ]
  },
  {
   "cell_type": "code",
   "execution_count": 83,
   "metadata": {},
   "outputs": [],
   "source": [
    "cosine_sim = cosine_similarity(choc_cara, choc_cara)"
   ]
  },
  {
   "cell_type": "markdown",
   "metadata": {},
   "source": [
    "### Creating a company finder function"
   ]
  },
  {
   "cell_type": "code",
   "execution_count": 85,
   "metadata": {},
   "outputs": [
    {
     "name": "stdout",
     "output_type": "stream",
     "text": [
      "Company index for Fresco: 346\n"
     ]
    }
   ],
   "source": [
    "company_idx = dict(zip(df['COMPANY NAME'], list(df.index)))\n",
    "idx = company_idx['Fresco']\n",
    "print(f\"Company index for Fresco: {idx}\")"
   ]
  },
  {
   "cell_type": "code",
   "execution_count": 86,
   "metadata": {},
   "outputs": [],
   "source": [
    "n_recommendations=10\n",
    "sim_scores = list(enumerate(cosine_sim[idx]))\n",
    "sim_scores = sorted(sim_scores, key=lambda x: x[1], reverse=True)\n",
    "sim_scores = sim_scores[1 : (n_recommendations+1)]"
   ]
  },
  {
   "cell_type": "code",
   "execution_count": 87,
   "metadata": {},
   "outputs": [],
   "source": [
    "similar_companies = [i[0] for i in sim_scores]"
   ]
  },
  {
   "cell_type": "code",
   "execution_count": 88,
   "metadata": {},
   "outputs": [
    {
     "name": "stdout",
     "output_type": "stream",
     "text": [
      "Because you bought from Fresco:\n"
     ]
    },
    {
     "data": {
      "text/plain": [
       "501                Manoa\n",
       "617      Palette de Bine\n",
       "665              Potomac\n",
       "268          Dick Taylor\n",
       "359             Fruition\n",
       "374          Great Lakes\n",
       "581               Nuance\n",
       "40                 Arete\n",
       "143           Castronovo\n",
       "284    East Van Roasters\n",
       "Name: COMPANY NAME, dtype: object"
      ]
     },
     "execution_count": 88,
     "metadata": {},
     "output_type": "execute_result"
    }
   ],
   "source": [
    "print(f\"Because you bought from Fresco:\")\n",
    "df['COMPANY NAME'].iloc[similar_companies]"
   ]
  },
  {
   "cell_type": "code",
   "execution_count": 89,
   "metadata": {},
   "outputs": [],
   "source": [
    "def get_content_based_recommendations(title, n_recommendations=10):\n",
    "    idx = company_idx[title]\n",
    "    sim_scores = list(enumerate(cosine_sim[idx]))\n",
    "    sim_scores = sorted(sim_scores, key=lambda x: x[1], reverse=True)\n",
    "    sim_scores = sim_scores[1:(n_recommendations+1)]\n",
    "    similar_companies = [(df['COMPANY NAME'].iloc[i], score) for i, score in sim_scores]\n",
    "    return similar_companies"
   ]
  },
  {
   "cell_type": "code",
   "execution_count": 90,
   "metadata": {},
   "outputs": [
    {
     "name": "stdout",
     "output_type": "stream",
     "text": [
      "Because you bought from Fresco, you may like:\n",
      "\n",
      "Manoa (Similarity Score: 0.5)\n",
      "Palette de Bine (Similarity Score: 0.5)\n",
      "Potomac (Similarity Score: 0.5)\n",
      "Dick Taylor (Similarity Score: 0.4472135954999579)\n",
      "Fruition (Similarity Score: 0.4472135954999579)\n",
      "Great Lakes (Similarity Score: 0.4472135954999579)\n",
      "Nuance (Similarity Score: 0.4472135954999579)\n",
      "Arete (Similarity Score: 0.35355339059327373)\n",
      "Castronovo (Similarity Score: 0.35355339059327373)\n",
      "East Van Roasters (Similarity Score: 0.35355339059327373)\n"
     ]
    }
   ],
   "source": [
    "recommendations = get_content_based_recommendations(\"Fresco\")\n",
    "print(\"Because you bought from Fresco, you may like:\\n\")\n",
    "for company, score in recommendations:\n",
    "    print(f\"{company} (Similarity Score: {score})\")"
   ]
  },
  {
   "cell_type": "markdown",
   "metadata": {},
   "source": [
    "### Dimensionality Reduction with Matrix Factorization"
   ]
  },
  {
   "cell_type": "markdown",
   "metadata": {},
   "source": [
    "Matrix factorization (MF) is a linear algebra technique that can help to discover latent features underlying the interactions between customers and companies. These latent features give a more compact representation of user tastes and item descriptions. MF is particularly useful for very sparse data and can enhance the quality of recommendations. The algorithm works by factorizing the original user-item matrix into two factor matrices:\n",
    "\n",
    "- user-factor matrix (n_users, k)\n",
    "- item-factor matrix (k, n_items)\n",
    "\n",
    "We are reducing the dimensions of our original matrix into \"taste\" dimensions. We cannot interpret what each latent feature $k$ represents."
   ]
  },
  {
   "cell_type": "code",
   "execution_count": 45,
   "metadata": {},
   "outputs": [
    {
     "data": {
      "text/plain": [
       "(170, 20)"
      ]
     },
     "execution_count": 45,
     "metadata": {},
     "output_type": "execute_result"
    }
   ],
   "source": [
    "svd = TruncatedSVD(n_components=20, n_iter=10)\n",
    "Q = svd.fit_transform(X.T)\n",
    "Q.shape"
   ]
  },
  {
   "cell_type": "code",
   "execution_count": null,
   "metadata": {
    "scrolled": true
   },
   "outputs": [],
   "source": [
    "company_name = 'Patric'\n",
    "similar_companies = find_similar_companies(company_name, Q.T, company_mapper, company_inv_mapper, metric='cosine', k=10)\n",
    "\n",
    "print(f\"Because you bought from {company_name}, you may like:/n\")\n",
    "for i in similar_companies:\n",
    "    print(i)"
   ]
  },
  {
   "cell_type": "markdown",
   "metadata": {},
   "source": [
    "The results above are the most similar companies to Patric using kNN on “compressed” company-factor matrix. We reduced the dimensions down to n_components=20. We can think of each component representing a latent feature such as chocolate characteristic."
   ]
  }
 ],
 "metadata": {
  "kernelspec": {
   "display_name": "Python 3 (ipykernel)",
   "language": "python",
   "name": "python3"
  },
  "language_info": {
   "codemirror_mode": {
    "name": "ipython",
    "version": 3
   },
   "file_extension": ".py",
   "mimetype": "text/x-python",
   "name": "python",
   "nbconvert_exporter": "python",
   "pygments_lexer": "ipython3",
   "version": "3.11.7"
  }
 },
 "nbformat": 4,
 "nbformat_minor": 4
}
